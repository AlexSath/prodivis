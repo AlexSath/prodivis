{
 "cells": [
  {
   "cell_type": "code",
   "execution_count": 1,
   "id": "e546dcf9-8b79-4fde-b1c0-7da2b2411293",
   "metadata": {},
   "outputs": [],
   "source": [
    "import norm_heatmap\n",
    "import normalize\n",
    "import tools\n",
    "import matplotlib.pyplot as plt\n",
    "import pandas as pd\n",
    "import numpy as np\n",
    "import heatmap_workflow_tools as hwt\n",
    "import os"
   ]
  },
  {
   "cell_type": "markdown",
   "id": "ec96b23b-04e1-4c2c-9c28-3ab8e315d124",
   "metadata": {},
   "source": [
    "# 1. Pre-Processing"
   ]
  },
  {
   "cell_type": "markdown",
   "id": "484ab551-e177-42e5-9d7a-5b1ec4d108be",
   "metadata": {},
   "source": [
    "### 1.1. Adjust Variables as Necessary (input required)"
   ]
  },
  {
   "cell_type": "code",
   "execution_count": 2,
   "id": "4e45dbc0-6925-4750-ad5b-7ad483f482b0",
   "metadata": {},
   "outputs": [],
   "source": [
    "# In quotes, put paths to folders containing tiffs for SOI and Normalization signals, respectively\n",
    "stack_dir = os.path.abspath(\"Insert path to SOI\")\n",
    "norm_dir = os.path.abspath(\"Insert path to NS\")\n",
    "\n",
    "# What is your signal of interest (SOI) and normalization signal (NS) \n",
    "soi = \"Name of SOI\"\n",
    "ns = \"Name of NS\"\n",
    "\n",
    "# Replace with slice integers or decimal percentages. 'None' for no boundary. refer to zmin and zmax as microns on the x-axis in your graphs\n",
    "zmin, zmax = None, None\n",
    "\n",
    "# How many microns is a single image/slice? (float)\n",
    "slice_depth = \n",
    "\n",
    "# Do you want to save your figures? (boolean)\n",
    "save_figs =  \n",
    "\n",
    "# Adjust the lower and upper threshold\n",
    "lower_thresh = 10 \n",
    "upper_thresh = 254"
   ]
  },
  {
   "cell_type": "markdown",
   "id": "851c0b48-b307-4160-8185-a9403f743205",
   "metadata": {},
   "source": [
    "### 1.2. Variable Processing"
   ]
  },
  {
   "cell_type": "code",
   "execution_count": 3,
   "id": "5cb40000-fe6c-4b5a-88e9-235e31dc46cd",
   "metadata": {},
   "outputs": [],
   "source": [
    "stack_tiffs = tools.get_files(stack_dir)"
   ]
  },
  {
   "cell_type": "code",
   "execution_count": 4,
   "id": "4c78ec7c-db52-4713-b5d3-c27fd8eece72",
   "metadata": {},
   "outputs": [],
   "source": [
    "norm_tiffs = tools.get_files(norm_dir)"
   ]
  },
  {
   "cell_type": "code",
   "execution_count": 5,
   "id": "ba1d32b6-554d-4d14-920c-06473611a4e6",
   "metadata": {},
   "outputs": [
    {
     "name": "stdout",
     "output_type": "stream",
     "text": [
      "Processed ZMin and ZMax: 0, 58\n"
     ]
    }
   ],
   "source": [
    "zmin, zmax = hwt.process_zmin_zmax(zmin, zmax, stack_tiffs)\n",
    "print(f\"Processed ZMin and ZMax: {zmin}, {zmax}\")"
   ]
  },
  {
   "cell_type": "code",
   "execution_count": 6,
   "id": "d5eec5c3-4da7-47dd-9421-cc5e8316efcf",
   "metadata": {},
   "outputs": [],
   "source": [
    "stack_name = os.path.basename(stack_dir)\n",
    "norm_name = os.path.basename(norm_dir)\n",
    "base_dir = os.path.basename(os.path.dirname(norm_dir))\n",
    "out_dir = os.path.abspath(os.path.join(os.path.abspath(''), '..', 'hmp_paper_data'))\n",
    "if not os.path.isdir(out_dir):\n",
    "    os.mkdir(out_dir)\n",
    "out_dir = os.path.join(out_dir, f\"{base_dir}_{stack_name}n{norm_name}_out\")\n",
    "if not os.path.isdir(out_dir):\n",
    "    os.mkdir(out_dir)"
   ]
  },
  {
   "cell_type": "markdown",
   "id": "d1f5a444-5cbb-4c6c-8e57-8efd5e3fda4f",
   "metadata": {},
   "source": [
    "# 2. Raw Heatmap"
   ]
  },
  {
   "cell_type": "markdown",
   "id": "061d7de3-efb6-4c83-ae30-58821f6b9cea",
   "metadata": {},
   "source": [
    "### 2.1. Signal of Interest (SOI) Mean Slice Intensity (MSI)"
   ]
  },
  {
   "cell_type": "code",
   "execution_count": null,
   "id": "c4656bf4-5d0d-4f2e-9513-07759641bf76",
   "metadata": {},
   "outputs": [],
   "source": [
    "stack_means = np.array([])\n",
    "for img in stack_tiffs[zmin:zmax]:\n",
    "    mean = normalize.tiff_stats_thresh(img, lower_thresh, upper_thresh, 1)\n",
    "    stack_means = np.append(stack_means, mean)\n",
    "hwt.plot_MSI(stack_means, slice_depth,\n",
    "             f\"{base_dir} {stack_name} z{zmin}-{zmax}\",\n",
    "             os.path.join(out_dir, f\"{base_dir}_{stack_name}_z{zmin}-{zmax}_SOI_Intensity.pdf\"), save_figs)"
   ]
  },
  {
   "cell_type": "markdown",
   "id": "424173d4-9e54-4c35-827d-f48cb6024cf3",
   "metadata": {},
   "source": [
    "### 2.2. SOI Mean Intensity Projection"
   ]
  },
  {
   "cell_type": "code",
   "execution_count": 8,
   "id": "718fb0ec-6578-4392-b27b-44daa125f06a",
   "metadata": {},
   "outputs": [
    {
     "name": "stdout",
     "output_type": "stream",
     "text": [
      "Generating composites for z, x and y view(s) from /Users/Kyle/Desktop/Heat Map Code/Heatmaps/Image_2_COXI_Actin/ACTIN...\n",
      "Completing post-processing for z, x and y composite(s) from /Users/Kyle/Desktop/Heat Map Code/Heatmaps/Image_2_COXI_Actin/ACTIN...\n"
     ]
    }
   ],
   "source": [
    "imgs = norm_heatmap.stack(stack_tiffs[zmin:zmax], ['z', 'x', 'y'], 20)"
   ]
  },
  {
   "cell_type": "code",
   "execution_count": null,
   "id": "08bc1945-8c4d-454e-920b-73793288d5b4",
   "metadata": {},
   "outputs": [],
   "source": [
    "hwt.plot_MIP(imgs, f\"{base_dir} {stack_name} z{zmin}-{zmax}\", \n",
    "                os.path.join(out_dir, f\"{base_dir}_{stack_name}_z{zmin}-{zmax}_HeatMap.pdf\"), save_figs)"
   ]
  },
  {
   "cell_type": "markdown",
   "id": "36cfb5d9-5b64-4097-872a-66c6b65aa3ec",
   "metadata": {
    "tags": []
   },
   "source": [
    "# 3. Getting Normalized Heatmap"
   ]
  },
  {
   "cell_type": "markdown",
   "id": "5c120df4-2c63-4059-8898-5d05e5225d16",
   "metadata": {},
   "source": [
    "### 3.1. Normalization Signal MSI"
   ]
  },
  {
   "cell_type": "code",
   "execution_count": null,
   "id": "1ea9735b-9d55-44ce-ad2f-71e953930147",
   "metadata": {},
   "outputs": [],
   "source": [
    "norm_means = np.array([])\n",
    "for norm_tiff in norm_tiffs[zmin:zmax]:\n",
    "    mean = normalize.tiff_stats_thresh(norm_tiff, lower_thresh, upper_thresh, 1)\n",
    "    norm_means = np.append(norm_means, mean)\n",
    "hwt.plot_MSI(norm_means, slice_depth,\n",
    "             f\"{base_dir} {norm_name} z{zmin}-{zmax}\",\n",
    "             os.path.join(out_dir, f\"{base_dir}_{stack_name}_z{zmin}-{zmax}_Norm_Intensity.pdf\"), save_figs)\n"
   ]
  },
  {
   "cell_type": "markdown",
   "id": "3a338698-303f-4fe8-a7ce-80de3e128b20",
   "metadata": {},
   "source": [
    "### 3.2. Normalized SOI MSI"
   ]
  },
  {
   "cell_type": "code",
   "execution_count": 11,
   "id": "d396f64e-68dd-4b05-a3a6-c9ddf02c960b",
   "metadata": {},
   "outputs": [],
   "source": [
    "%%capture\n",
    "norm_stack_tiffs = normalize.mean_normalizer(stack_tiffs, norm_tiffs, 0, -1, True, False)"
   ]
  },
  {
   "cell_type": "code",
   "execution_count": null,
   "id": "da9a093f-13bf-4b70-a93a-cf8db5f30f60",
   "metadata": {},
   "outputs": [],
   "source": [
    "norm_stack_means = np.array([])\n",
    "for norm_stack_tiff in norm_stack_tiffs[zmin:zmax]:\n",
    "    mean = normalize.tiff_stats_thresh(norm_stack_tiff, lower_thresh, upper_thresh, 1)\n",
    "    norm_stack_means = np.append(norm_stack_means, mean)\n",
    "hwt.plot_MSI(norm_stack_means, slice_depth,\n",
    "             f\"{base_dir} {stack_name} norm {norm_name} z{zmin}-{zmax}_\",\n",
    "             os.path.join(out_dir, f\"{base_dir}_{stack_name}n{norm_name}_z{zmin}-{zmax}_Normalized_Intensity.pdf\"), save_figs)"
   ]
  },
  {
   "cell_type": "code",
   "execution_count": null,
   "id": "4c8d081e",
   "metadata": {},
   "outputs": [],
   "source": [
    "hwt.plot_MSI_soi_ns(soi, ns, stack_means, norm_means, slice_depth, f\"{base_dir} {stack_name} {norm_name} z{zmin}-{zmax}_\",\n",
    "             os.path.join(out_dir, f\"{base_dir}_{stack_name}n{norm_name}_z{zmin}-{zmax}_SOI_vs_NS.pdf\"), save_figs)"
   ]
  },
  {
   "cell_type": "code",
   "execution_count": null,
   "id": "9bcc7158",
   "metadata": {},
   "outputs": [],
   "source": [
    "hwt.plot_MSI_grouped(stack_means, norm_means, norm_stack_means, slice_depth, f\"{base_dir} {stack_name} norm {norm_name} z{zmin}-{zmax}_Grouped\",\n",
    "                os.path.join(out_dir, f\"{base_dir}_{stack_name}n{norm_name}_z{zmin}-{zmax}_Normalized_Intensity_grouped.pdf\"), save_figs)"
   ]
  },
  {
   "cell_type": "markdown",
   "id": "a7e853df-6507-4b0c-ac4a-0c5d0fabbb2f",
   "metadata": {},
   "source": [
    "### 3.3. Normalized SOI Mean Intensity Projection"
   ]
  },
  {
   "cell_type": "code",
   "execution_count": 15,
   "id": "8557847a-92cb-4fa9-9876-a5523baf460a",
   "metadata": {},
   "outputs": [
    {
     "name": "stdout",
     "output_type": "stream",
     "text": [
      "Generating composites for z, x and y view(s) from /Users/Kyle/Desktop/Heat Map Code/Heatmaps/Image_2_COXI_Actin/ACTIN_rn_DAPI_...\n",
      "Completing post-processing for z, x and y composite(s) from /Users/Kyle/Desktop/Heat Map Code/Heatmaps/Image_2_COXI_Actin/ACTIN_rn_DAPI_...\n"
     ]
    }
   ],
   "source": [
    "imgs = norm_heatmap.stack(norm_stack_tiffs[zmin:zmax], ['z', 'x', 'y'], 20)"
   ]
  },
  {
   "cell_type": "code",
   "execution_count": null,
   "id": "95d1c1bd-ab4e-4503-9f9d-5127740992ca",
   "metadata": {},
   "outputs": [],
   "source": [
    "hwt.plot_MIP(imgs, f\"{base_dir} {stack_name} norm {norm_name} z{zmin}-{zmax}\", \n",
    "                os.path.join(out_dir, f\"{base_dir}_{stack_name}n{stack_name}_z{zmin}-{zmax}_Normalized_HeatMap.pdf\"), save_figs)"
   ]
  }
 ],
 "metadata": {
  "kernelspec": {
   "display_name": "Python 3.10.6 64-bit",
   "language": "python",
   "name": "python3"
  },
  "language_info": {
   "codemirror_mode": {
    "name": "ipython",
    "version": 3
   },
   "file_extension": ".py",
   "mimetype": "text/x-python",
   "name": "python",
   "nbconvert_exporter": "python",
   "pygments_lexer": "ipython3",
   "version": "3.10.6"
  },
  "vscode": {
   "interpreter": {
    "hash": "aee8b7b246df8f9039afb4144a1f6fd8d2ca17a180786b69acc140d282b71a49"
   }
  }
 },
 "nbformat": 4,
 "nbformat_minor": 5
}
