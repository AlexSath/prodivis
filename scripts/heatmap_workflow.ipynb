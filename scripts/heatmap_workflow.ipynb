{
 "cells": [
  {
   "cell_type": "code",
   "execution_count": 1,
   "id": "e546dcf9-8b79-4fde-b1c0-7da2b2411293",
   "metadata": {},
   "outputs": [],
   "source": [
    "import norm_heatmap\n",
    "import normalize\n",
    "import experiment_normalized_depth_loss\n",
    "import tools\n",
    "import matplotlib.pyplot as plt\n",
    "import pandas as pd\n",
    "import numpy as np\n",
    "import heatmap_workflow_tools as hwt\n",
    "import os"
   ]
  },
  {
   "cell_type": "markdown",
   "id": "ec96b23b-04e1-4c2c-9c28-3ab8e315d124",
   "metadata": {},
   "source": [
    "# 1. Pre-Processing"
   ]
  },
  {
   "cell_type": "markdown",
   "id": "484ab551-e177-42e5-9d7a-5b1ec4d108be",
   "metadata": {},
   "source": [
    "### 1.1. Adjust Variables as Necessary (input requried)"
   ]
  },
  {
   "cell_type": "code",
   "execution_count": 2,
   "id": "4e45dbc0-6925-4750-ad5b-7ad483f482b0",
   "metadata": {},
   "outputs": [],
   "source": [
    "# In quotes, put paths to folders containing tiffs for SOI and Normalization signals, respectively\n",
    "stack_dir = os.path.abspath(\"/Users/sathlerar/Documents/franco/hsp9056/Hsp90_3NT56/\")\n",
    "norm_dir = os.path.abspath(\"/Users/sathlerar/Documents/franco/hsp9056/DAPI/\")\n",
    "\n",
    "# Replace with slice integers or decimal percentages. 'None' for no boundary.\n",
    "zmin, zmax = None, None\n",
    "\n",
    "# how many microns is a single image/slice?\n",
    "slice_depth = 0.79\n",
    "\n",
    "# how many slices does a monolayer of your cell type represent?\n",
    "monolayer_num_slices = 15"
   ]
  },
  {
   "cell_type": "markdown",
   "id": "851c0b48-b307-4160-8185-a9403f743205",
   "metadata": {},
   "source": [
    "### 1.2. Variable Processing"
   ]
  },
  {
   "cell_type": "code",
   "execution_count": 3,
   "id": "5cb40000-fe6c-4b5a-88e9-235e31dc46cd",
   "metadata": {},
   "outputs": [],
   "source": [
    "stack_tiffs = tools.get_files(stack_dir)"
   ]
  },
  {
   "cell_type": "code",
   "execution_count": 4,
   "id": "4c78ec7c-db52-4713-b5d3-c27fd8eece72",
   "metadata": {},
   "outputs": [],
   "source": [
    "norm_tiffs = tools.get_files(norm_dir)"
   ]
  },
  {
   "cell_type": "code",
   "execution_count": 5,
   "id": "ba1d32b6-554d-4d14-920c-06473611a4e6",
   "metadata": {},
   "outputs": [
    {
     "name": "stdout",
     "output_type": "stream",
     "text": [
      "Processed ZMin and ZMax: 0, 64\n"
     ]
    }
   ],
   "source": [
    "zmin, zmax = hwt.process_zmin_zmax(zmin, zmax, stack_tiffs)\n",
    "print(f\"Processed ZMin and ZMax: {zmin}, {zmax}\")"
   ]
  },
  {
   "cell_type": "code",
   "execution_count": 6,
   "id": "d5eec5c3-4da7-47dd-9421-cc5e8316efcf",
   "metadata": {},
   "outputs": [],
   "source": [
    "stack_name = os.path.basename(stack_dir)\n",
    "norm_name = os.path.basename(norm_dir)\n",
    "base_dir = os.path.basename(os.path.dirname(norm_dir))\n",
    "out_dir = os.path.abspath(os.path.join(os.path.abspath(''), '..', 'hmp_paper_data'))\n",
    "if not os.path.isdir(out_dir):\n",
    "    os.mkdir(out_dir)\n",
    "out_dir = os.path.join(out_dir, f\"{base_dir}_{stack_name}n{norm_name}_out\")\n",
    "if not os.path.isdir(out_dir):\n",
    "    os.mkdir(out_dir)"
   ]
  },
  {
   "cell_type": "markdown",
   "id": "d1f5a444-5cbb-4c6c-8e57-8efd5e3fda4f",
   "metadata": {},
   "source": [
    "# 2. Raw Heatmap"
   ]
  },
  {
   "cell_type": "markdown",
   "id": "061d7de3-efb6-4c83-ae30-58821f6b9cea",
   "metadata": {},
   "source": [
    "### 2.1. SOI MSI"
   ]
  },
  {
   "cell_type": "code",
   "execution_count": null,
   "id": "c4656bf4-5d0d-4f2e-9513-07759641bf76",
   "metadata": {},
   "outputs": [],
   "source": [
    "stack_means = np.array([])\n",
    "stack_stds = np.array([])\n",
    "for img in stack_tiffs[zmin:zmax]:\n",
    "    mean, std = normalize.tiff_mean_std(img, 0, -1, True, 0)\n",
    "    stack_means = np.append(stack_means, mean)\n",
    "    stack_stds = np.append(stack_stds, std)\n",
    "hwt.plot_MSI(stack_means, stack_stds, slice_depth,\n",
    "             f\"{base_dir} {stack_name} z{zmin}-{zmax} MSI\",\n",
    "             os.path.join(out_dir, f\"{base_dir}_{stack_name}_z{zmin}-{zmax}_MSI.png\"))"
   ]
  },
  {
   "cell_type": "markdown",
   "id": "424173d4-9e54-4c35-827d-f48cb6024cf3",
   "metadata": {},
   "source": [
    "### 2.2. SOI MIP"
   ]
  },
  {
   "cell_type": "code",
   "execution_count": null,
   "id": "718fb0ec-6578-4392-b27b-44daa125f06a",
   "metadata": {},
   "outputs": [],
   "source": [
    "imgs = norm_heatmap.stack(stack_tiffs[zmin:zmax], ['z', 'x', 'y'], 20)"
   ]
  },
  {
   "cell_type": "code",
   "execution_count": null,
   "id": "08bc1945-8c4d-454e-920b-73793288d5b4",
   "metadata": {},
   "outputs": [],
   "source": [
    "hwt.plot_MIP(imgs, f\"{base_dir} {stack_name} z{zmin}-{zmax}\", os.path.join(out_dir, f\"{base_dir}_{stack_name}_z{zmin}-{zmax}_MIP.png\"))"
   ]
  },
  {
   "cell_type": "markdown",
   "id": "36cfb5d9-5b64-4097-872a-66c6b65aa3ec",
   "metadata": {
    "tags": []
   },
   "source": [
    "# 3. Getting normalized heatmap"
   ]
  },
  {
   "cell_type": "markdown",
   "id": "5c120df4-2c63-4059-8898-5d05e5225d16",
   "metadata": {},
   "source": [
    "### 3.1. Norm MIP"
   ]
  },
  {
   "cell_type": "code",
   "execution_count": null,
   "id": "1ea9735b-9d55-44ce-ad2f-71e953930147",
   "metadata": {},
   "outputs": [],
   "source": [
    "norm_means = np.array([])\n",
    "norm_stds = np.array([])\n",
    "for norm_tiff in norm_tiffs[zmin:zmax]:\n",
    "    mean, std = normalize.tiff_mean_std(norm_tiff, 0, -1, True, 0)\n",
    "    norm_means = np.append(norm_means, mean)\n",
    "    norm_stds = np.append(norm_stds, std)\n",
    "hwt.plot_MSI(norm_means, norm_stds, slice_depth,\n",
    "             f\"{base_dir} {norm_name} z{zmin}-{zmax} MSI\",\n",
    "             os.path.join(out_dir, f\"{base_dir}_{norm_name}_z{zmin}-{zmax}_MSI.png\"))"
   ]
  },
  {
   "cell_type": "markdown",
   "id": "3a338698-303f-4fe8-a7ce-80de3e128b20",
   "metadata": {},
   "source": [
    "### 3.2. Normalized SOI MIP"
   ]
  },
  {
   "cell_type": "code",
   "execution_count": null,
   "id": "d396f64e-68dd-4b05-a3a6-c9ddf02c960b",
   "metadata": {},
   "outputs": [],
   "source": [
    "%%capture\n",
    "norm_stack_tiffs = normalize.mean_normalizer(stack_tiffs, norm_tiffs, 0, -1, True, False)"
   ]
  },
  {
   "cell_type": "code",
   "execution_count": null,
   "id": "da9a093f-13bf-4b70-a93a-cf8db5f30f60",
   "metadata": {},
   "outputs": [],
   "source": [
    "norm_stack_means = np.array([])\n",
    "norm_stack_stds = np.array([])\n",
    "for norm_stack_tiff in norm_stack_tiffs[zmin:zmax]:\n",
    "    mean, std = normalize.tiff_mean_std(norm_stack_tiff, 0, -1, True, 0)\n",
    "    norm_stack_means = np.append(norm_stack_means, mean)\n",
    "    norm_stack_stds = np.append(norm_stack_stds, std)\n",
    "hwt.plot_MSI(norm_stack_means, norm_stack_stds, slice_depth,\n",
    "             f\"{base_dir} {stack_name} norm {norm_name} z{zmin}-{zmax} MSI\",\n",
    "             os.path.join(out_dir, f\"{base_dir}_{stack_name}n{norm_name}_z{zmin}-{zmax}_MSI.png\"))"
   ]
  },
  {
   "cell_type": "markdown",
   "id": "a7e853df-6507-4b0c-ac4a-0c5d0fabbb2f",
   "metadata": {},
   "source": [
    "### 3.3. Normalized SOI MIP"
   ]
  },
  {
   "cell_type": "code",
   "execution_count": null,
   "id": "8557847a-92cb-4fa9-9876-a5523baf460a",
   "metadata": {},
   "outputs": [],
   "source": [
    "imgs = norm_heatmap.stack(norm_stack_tiffs[zmin:zmax], ['z', 'x', 'y'], 20)"
   ]
  },
  {
   "cell_type": "code",
   "execution_count": null,
   "id": "95d1c1bd-ab4e-4503-9f9d-5127740992ca",
   "metadata": {},
   "outputs": [],
   "source": [
    "hwt.plot_MIP(imgs, f\"{base_dir} {stack_name} norm {norm_name} z{zmin}-{zmax}\", os.path.join(out_dir, f\"{base_dir}_{stack_name}n{stack_name}_z{zmin}-{zmax}_MIP.png\"))"
   ]
  },
  {
   "cell_type": "markdown",
   "id": "9acc78e7-2386-4984-8396-e5677c5bf16f",
   "metadata": {},
   "source": [
    "# 4. Heatmap w/ Monolayer-Excluded (EM) Normalization"
   ]
  },
  {
   "cell_type": "markdown",
   "id": "07b2b4f7-d75a-4f95-b136-79aae70ab096",
   "metadata": {},
   "source": [
    "### 4.1 Tumoroid Boundary Detection"
   ]
  },
  {
   "cell_type": "code",
   "execution_count": null,
   "id": "72436ff4-cc15-485d-b5aa-21ab66439347",
   "metadata": {},
   "outputs": [],
   "source": [
    "#getting mask/boundary...\n",
    "monolayer_percentage = monolayer_num_slices / len(norm_tiffs)\n",
    "mask = normalize.get_norm_bool_idxs(norm_tiffs[zmin:zmax], monolayer_percentage)"
   ]
  },
  {
   "cell_type": "code",
   "execution_count": null,
   "id": "925599d6-f661-4cc3-a044-33efaf868a26",
   "metadata": {},
   "outputs": [],
   "source": [
    "fig = plt.figure()\n",
    "ax1 = fig.add_subplot(111)\n",
    "im = ax1.imshow(mask, cmap = 'magma')\n",
    "plt.colorbar(im)\n",
    "plt.title(f\"{norm_name} EM Mask ({monolayer_num_slices} slices/{round(monolayer_num_slices * 100, 2)}%)\")\n",
    "plt.savefig(os.path.join(out_dir, f\"{base_dir}_{norm_name}_EM_Mask.png\"))"
   ]
  },
  {
   "cell_type": "markdown",
   "id": "5fac7cf5-3ffe-4f91-9e8e-1130d3e1f834",
   "metadata": {},
   "source": [
    "### 4.2 Monolayer-Excluded (EM) Norm MSI"
   ]
  },
  {
   "cell_type": "code",
   "execution_count": null,
   "id": "d1990496-6ffa-4ccf-b617-018fad736f3c",
   "metadata": {},
   "outputs": [],
   "source": [
    "norm_means_EM = np.array([])\n",
    "norm_stds_EM = np.array([])\n",
    "for norm_tiff in norm_tiffs[zmin:zmax]:\n",
    "    mean, std = normalize.tiff_mean_std(norm_tiff, 0, -1, True, mask)\n",
    "    norm_means_EM = np.append(norm_means_EM, mean)\n",
    "    norm_stds_EM = np.append(norm_stds_EM, std)\n",
    "hwt.plot_MSI(norm_means_EM, norm_stds_EM, slice_depth,\n",
    "             f\"{base_dir} EM {norm_name} z{zmin}-{zmax} MSI\",\n",
    "             os.path.join(out_dir, f\"{base_dir}_EM_{norm_name}_z{zmin}-{zmax}_`MSI.png\"))\n"
   ]
  },
  {
   "cell_type": "markdown",
   "id": "2e615f0b-49a8-4b14-b2f3-58b73257fd65",
   "metadata": {},
   "source": [
    "### 4.3 EM-Normalized SOI MSI"
   ]
  },
  {
   "cell_type": "code",
   "execution_count": null,
   "id": "a247c0c8-5471-4e01-ba93-b9e470d6cae6",
   "metadata": {},
   "outputs": [],
   "source": [
    "%%capture\n",
    "norm_stack_tiffs_EM = normalize.mean_normalizer(stack_tiffs, norm_tiffs, 0, -1, True, True)"
   ]
  },
  {
   "cell_type": "code",
   "execution_count": null,
   "id": "0513a050-0962-4518-b8ae-ae4f61e896de",
   "metadata": {},
   "outputs": [],
   "source": [
    "norm_stack_means_EM = np.array([])\n",
    "norm_stack_stds_EM = np.array([])\n",
    "for norm_stack_tiff_EM in norm_stack_tiffs_EM[zmin:zmax]:\n",
    "    mean, std = normalize.tiff_mean_std(norm_stack_tiff_EM, 0, -1, True, 0)\n",
    "    norm_stack_means_EM = np.append(norm_stack_means_EM, mean)\n",
    "    norm_stack_stds_EM = np.append(norm_stack_stds_EM, std)\n",
    "hwt.plot_MSI(norm_stack_means, norm_stack_stds, slice_depth,\n",
    "             f\"{base_dir} {stack_name} EM norm {norm_name} z{zmin}-{zmax} MSI\",\n",
    "             os.path.join(out_dir, f\"{base_dir}_{stack_name}EMn{norm_name}_z{zmin}-{zmax}_MSI.png\"))"
   ]
  },
  {
   "cell_type": "markdown",
   "id": "dce6788b-7a22-4e22-bcda-d280d7623c24",
   "metadata": {},
   "source": [
    "### 4.4 EM-Normalized SOI MIP"
   ]
  },
  {
   "cell_type": "code",
   "execution_count": null,
   "id": "8899c96f-01fc-477e-b966-3a789e043128",
   "metadata": {},
   "outputs": [],
   "source": [
    "imgs = norm_heatmap.stack(norm_stack_tiffs_EM[zmin:zmax], ['z', 'x', 'y'], 20)"
   ]
  },
  {
   "cell_type": "code",
   "execution_count": null,
   "id": "cceebb8b-c57c-4cbe-914e-6326d9fa8fb7",
   "metadata": {},
   "outputs": [],
   "source": [
    "hwt.plot_MIP(imgs, f\"{base_dir} {stack_name} EM norm {norm_name} z{zmin}-{zmax}\", os.path.join(out_dir, f\"{base_dir}_{stack_name}EMn{stack_name}_z{zmin}-{zmax}_MIP.png\"))"
   ]
  },
  {
   "cell_type": "code",
   "execution_count": null,
   "id": "988cf604-7dd1-4d17-b9c2-4ffc38c2af0b",
   "metadata": {},
   "outputs": [],
   "source": []
  }
 ],
 "metadata": {
  "kernelspec": {
   "display_name": "Python 3 (ipykernel)",
   "language": "python",
   "name": "python3"
  },
  "language_info": {
   "codemirror_mode": {
    "name": "ipython",
    "version": 3
   },
   "file_extension": ".py",
   "mimetype": "text/x-python",
   "name": "python",
   "nbconvert_exporter": "python",
   "pygments_lexer": "ipython3",
   "version": "3.10.4"
  }
 },
 "nbformat": 4,
 "nbformat_minor": 5
}
